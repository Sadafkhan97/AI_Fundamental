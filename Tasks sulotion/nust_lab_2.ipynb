{
 "cells": [
  {
   "cell_type": "code",
   "execution_count": 1,
   "id": "cbf8e1b8-71d7-449b-adf2-f2eb703b79a7",
   "metadata": {},
   "outputs": [
    {
     "name": "stdout",
     "output_type": "stream",
     "text": [
      "6\n"
     ]
    }
   ],
   "source": []
  },
  {
   "cell_type": "code",
   "execution_count": 3,
   "id": "91ac0cdb-4ab2-4e80-a777-e58aea498a09",
   "metadata": {},
   "outputs": [
    {
     "name": "stdout",
     "output_type": "stream",
     "text": [
      "20.0\n"
     ]
    }
   ],
   "source": [
    "print(8 * 2.5)"
   ]
  },
  {
   "cell_type": "code",
   "execution_count": 2,
   "id": "5834e97c-69f4-4f96-94ac-a647a7a61762",
   "metadata": {},
   "outputs": [
    {
     "name": "stdout",
     "output_type": "stream",
     "text": [
      "4.5\n"
     ]
    }
   ],
   "source": [
    "print(9 / 2)"
   ]
  },
  {
   "cell_type": "code",
   "execution_count": 4,
   "id": "48aeddab-0034-4bd4-a29f-09f69ba31b36",
   "metadata": {},
   "outputs": [
    {
     "name": "stdout",
     "output_type": "stream",
     "text": [
      "-4.5\n"
     ]
    }
   ],
   "source": [
    "print(9 / -2)"
   ]
  },
  {
   "cell_type": "code",
   "execution_count": 5,
   "id": "c91453e0-3ea1-49c9-a366-45956d8d26fc",
   "metadata": {},
   "outputs": [
    {
     "name": "stdout",
     "output_type": "stream",
     "text": [
      "-5\n"
     ]
    }
   ],
   "source": [
    "print(9 // -2)"
   ]
  },
  {
   "cell_type": "code",
   "execution_count": 6,
   "id": "a9960840-97b6-4a40-8a55-95a5910fa7de",
   "metadata": {},
   "outputs": [
    {
     "name": "stdout",
     "output_type": "stream",
     "text": [
      "1\n"
     ]
    }
   ],
   "source": [
    "print(9 % 2)"
   ]
  },
  {
   "cell_type": "code",
   "execution_count": 7,
   "id": "a900ad51-75b5-4797-b00d-c5841958a6dd",
   "metadata": {},
   "outputs": [
    {
     "name": "stdout",
     "output_type": "stream",
     "text": [
      "1.0\n"
     ]
    }
   ],
   "source": [
    "print(9.0 % 2)"
   ]
  },
  {
   "cell_type": "code",
   "execution_count": 8,
   "id": "dc1a500b-8d8f-4475-9611-e268049ccef8",
   "metadata": {},
   "outputs": [
    {
     "name": "stdout",
     "output_type": "stream",
     "text": [
      "1.0\n"
     ]
    }
   ],
   "source": [
    "print(9 % 2.0)"
   ]
  },
  {
   "cell_type": "code",
   "execution_count": 9,
   "id": "a1d01edb-c579-4523-bad9-b7127994f1ff",
   "metadata": {},
   "outputs": [
    {
     "name": "stdout",
     "output_type": "stream",
     "text": [
      "-1\n"
     ]
    }
   ],
   "source": [
    "print(9 % -2)"
   ]
  },
  {
   "cell_type": "code",
   "execution_count": 10,
   "id": "1712d8ed-d807-4a25-8cb6-7dcf1a1e5646",
   "metadata": {},
   "outputs": [
    {
     "name": "stdout",
     "output_type": "stream",
     "text": [
      "1\n"
     ]
    }
   ],
   "source": [
    "print(-9 % 2)"
   ]
  },
  {
   "cell_type": "code",
   "execution_count": 11,
   "id": "9d3ce311-7420-47fb-8135-ef1bc7484d97",
   "metadata": {},
   "outputs": [
    {
     "name": "stdout",
     "output_type": "stream",
     "text": [
      "-4.5\n"
     ]
    }
   ],
   "source": [
    "print(9 / -2.0)"
   ]
  },
  {
   "cell_type": "code",
   "execution_count": 12,
   "id": "bd6a5724-db08-4f15-be9b-b41b6bcafc7c",
   "metadata": {},
   "outputs": [
    {
     "name": "stdout",
     "output_type": "stream",
     "text": [
      "19\n"
     ]
    }
   ],
   "source": [
    "print(4 + 3 * 5)"
   ]
  },
  {
   "cell_type": "code",
   "execution_count": 13,
   "id": "e692a7b2-80c1-42f9-a2fe-1d4c7ff2a569",
   "metadata": {},
   "outputs": [
    {
     "name": "stdout",
     "output_type": "stream",
     "text": [
      "35\n"
     ]
    }
   ],
   "source": [
    "print((4 + 3) * 5)"
   ]
  },
  {
   "cell_type": "code",
   "execution_count": 19,
   "id": "12c4209e-0d25-4e77-8cab-d3e5efd5362d",
   "metadata": {},
   "outputs": [
    {
     "name": "stdout",
     "output_type": "stream",
     "text": [
      "7 --- 14 --- 21 --- 28 --- 35\n"
     ]
    }
   ],
   "source": [
    "# ●Create a variable x that stores an integer. Print out x, 2x, 3x, 4x, and 5x, each separated by three dashes,\n",
    "# like below if x=7. (hint: use multiplication operator and print function)\n",
    "\n",
    "# \t7---14---21---28---35\t\n",
    "x=7\n",
    "print(x,\"---\",x*2,\"---\",x*3,\"---\",x*4,\"---\",x*5)\n"
   ]
  },
  {
   "cell_type": "code",
   "execution_count": 23,
   "id": "1557d62c-32d3-42f5-a466-894773e9b678",
   "metadata": {},
   "outputs": [
    {
     "name": "stdin",
     "output_type": "stream",
     "text": [
      "enter a number:   2\n"
     ]
    },
    {
     "name": "stdout",
     "output_type": "stream",
     "text": [
      "2   <class 'int'>\n"
     ]
    },
    {
     "name": "stdin",
     "output_type": "stream",
     "text": [
      "enter a decimal number:  0.2\n"
     ]
    },
    {
     "name": "stdout",
     "output_type": "stream",
     "text": [
      "0.2   <class 'float'>\n"
     ]
    }
   ],
   "source": [
    "# num = int(input(\"Enter a number: \"))\n",
    "# print(num, \" \", type(num))\n",
    "# floatNum = float(input(\"Enter a decimal number: \"))\n",
    "# print(floatNum, \" \", type(floatNum))\n",
    "\n",
    "num=int(input(\"enter a number:  \"))\n",
    "print(num,\" \",type(num))\n",
    "floatNum=float(input(\"enter a decimal number: \"))\n",
    "print(floatNum,\" \",type(floatNum))"
   ]
  },
  {
   "cell_type": "code",
   "execution_count": 24,
   "id": "1a968b5a-907e-4c20-8c88-368f2a5c9659",
   "metadata": {},
   "outputs": [
    {
     "name": "stdin",
     "output_type": "stream",
     "text": [
      "enter first number 10\n",
      "enter second number 5\n"
     ]
    },
    {
     "name": "stdout",
     "output_type": "stream",
     "text": [
      "15\n",
      "50\n",
      "5\n",
      "0\n",
      "2.0\n"
     ]
    }
   ],
   "source": [
    "# Write a program that asks the user to enter two numbers, obtains the two numbers from the user and prints the sum, product, \n",
    "# difference, quotient and remainder of the two numbers. \n",
    "num_1=int(input(\"enter first number\"))\n",
    "num_2=int(input(\"enter second number\"))\n",
    "print(num_1+num_2)\n",
    "print(num_1*num_2)\n",
    "print(num_1-num_2)\n",
    "print(num_1%num_2)\n",
    "print(num_1/num_2)"
   ]
  },
  {
   "cell_type": "code",
   "execution_count": 1,
   "id": "4531e53f-3a2b-4aa5-a21b-be4a00dc1321",
   "metadata": {},
   "outputs": [
    {
     "name": "stdin",
     "output_type": "stream",
     "text": [
      "enter the radius of a circle   9\n"
     ]
    },
    {
     "name": "stdout",
     "output_type": "stream",
     "text": [
      "The diameter of a circle is: 18\n",
      "The circumference of a circle is: 56.54862\n",
      "The area of a circle is: 254.46878999999998\n"
     ]
    }
   ],
   "source": [
    "# ●Write a program that reads in the radius of a circle and prints the circle’s diameter,\n",
    "# circumference and area. Use the constant value 3.14159 for π.\n",
    "# Perform each of these calculations inside the print statement().\n",
    "\n",
    "radius=int(input(\"enter the radius of a circle  \"))\n",
    "print(\"The diameter of a circle is:\",radius*2)\n",
    "print(\"The circumference of a circle is:\",2*3.14159*radius)\n",
    "print(\"The area of a circle is:\",3.14159*radius**2)\n",
    "# diameter=radius*2\n",
    "# circumference=2*3.14159*radius\n",
    "# area=3.14159*radius**2\n"
   ]
  },
  {
   "cell_type": "code",
   "execution_count": 11,
   "id": "c5f0fd06-3370-42a8-a0f4-2206d34dca00",
   "metadata": {},
   "outputs": [
    {
     "name": "stdout",
     "output_type": "stream",
     "text": [
      "HHHHH\n",
      " HHHH\n",
      "  HHH\n",
      "   HH\n",
      "    H\n"
     ]
    }
   ],
   "source": [
    "# ●Write a program that produces the following output using variables instead of hardcoding:\n",
    "\n",
    "# HHHHHH\n",
    "#    HHHHH\n",
    "#          HHH\n",
    "#             HH\n",
    "#                H\n",
    "\n",
    "print('''HHHHH\n",
    " HHHH\n",
    "  HHH\n",
    "   HH\n",
    "    H''')"
   ]
  },
  {
   "cell_type": "code",
   "execution_count": 8,
   "id": "767acc1b-fe75-4bb0-b31a-ab12b5dd12cd",
   "metadata": {},
   "outputs": [
    {
     "name": "stdin",
     "output_type": "stream",
     "text": [
      "Enter a number:  4\n"
     ]
    },
    {
     "name": "stdout",
     "output_type": "stream",
     "text": [
      "The given number is even 4\n"
     ]
    }
   ],
   "source": [
    "# ●Write a program that reads an integer and determines and prints whether it is odd or even.\n",
    "num=int(input(\"Enter a number: \"))\n",
    "if num%2==0:\n",
    "    print(\"The given number is even\", num)\n",
    "else:\n",
    "      print(\"The given number is odd\", num)"
   ]
  },
  {
   "cell_type": "code",
   "execution_count": 17,
   "id": "21e067d6-68e5-4e35-b0dc-9b15e1d12e94",
   "metadata": {},
   "outputs": [
    {
     "name": "stdin",
     "output_type": "stream",
     "text": [
      "Enter first number  4\n",
      "Enter second number  3\n",
      "Enter third number  4\n"
     ]
    },
    {
     "name": "stdout",
     "output_type": "stream",
     "text": [
      "The entered number 3 is smaller\n",
      "The entered number 4 is larger\n"
     ]
    }
   ],
   "source": [
    "# Write a program that inputs three different integers from the keyboard, and then prints the smallest and the largest of these numbers.\n",
    "# Use only the single-selection form of the if statement that you learned in the class. \n",
    "# The screen dialogue should appear as follows:\n",
    "num_1=int(input(\"Enter first number \"))\n",
    "num_2=int(input(\"Enter second number \"))\n",
    "num_3=int(input(\"Enter third number \"))\n",
    "if num_1>num_2 or num_1>num_3:\n",
    "    larger=num_1\n",
    "if num_2>num_1 or num_2>num_3:\n",
    "    larger=num_2\n",
    "if num_3>num_1 or num_3>num_2:\n",
    "    larger=num_3\n",
    "if num_1<num_2 or num_1<num_3:\n",
    "    smaller=num_1\n",
    "if num_2<num_1 or num_2<num_3:\n",
    "    smaller=num_2\n",
    "if num_3<num_1 or num_3<num_2:\n",
    "    smaller=num_3\n",
    "print(f\"The entered number {smaller} is smaller\")\n",
    "print(f\"The entered number {larger} is larger\")\n",
    "    "
   ]
  },
  {
   "cell_type": "code",
   "execution_count": 37,
   "id": "0a081c8f-049e-403a-80ba-1bace0f105f2",
   "metadata": {},
   "outputs": [
    {
     "ename": "SyntaxError",
     "evalue": "'literal' is an illegal expression for augmented assignment (1930978051.py, line 14)",
     "output_type": "error",
     "traceback": [
      "\u001b[1;36m  Cell \u001b[1;32mIn[37], line 14\u001b[1;36m\u001b[0m\n\u001b[1;33m    4 += 7 / 2\u001b[0m\n\u001b[1;37m    ^\u001b[0m\n\u001b[1;31mSyntaxError\u001b[0m\u001b[1;31m:\u001b[0m 'literal' is an illegal expression for augmented assignment\n"
     ]
    }
   ],
   "source": [
    "# ●Which of the following expressions results in SyntaxErrors? Identify the syntax SyntaxErrors and type\n",
    "# the reason of error along with the correct code by mentioning its sequence number.\n",
    "\n",
    "# n.6 * -----------8\n",
    "# o.8 = people\n",
    "# p.((((4 ** 3))))\n",
    "# q.(-(-(-(-5))))\n",
    "# r.4 += 7 / 2\n",
    "\n",
    "# 6 * -----------8\n",
    "# 8 = people # the variable name should not be a number \n",
    "# ((((4 ** 3))))\n",
    "# (-(-(-(-5))))\n",
    "4 += 7 / 2 # the variable name should not be a number and literals are also not used with variables"
   ]
  },
  {
   "cell_type": "code",
   "execution_count": 26,
   "id": "74d29e4e-5d69-4dba-8343-210bccb60a46",
   "metadata": {},
   "outputs": [
    {
     "name": "stdout",
     "output_type": "stream",
     "text": [
      "number\tsquare\tcube\n",
      "1  \t 1  \t 1\n",
      "2  \t 4  \t 8\n",
      "3  \t 9  \t 27\n",
      "4  \t 16  \t 64\n",
      "5  \t 25  \t 125\n",
      "6  \t 36  \t 216\n",
      "7  \t 49  \t 343\n",
      "8  \t 64  \t 512\n",
      "9  \t 81  \t 729\n",
      "10  \t 100  \t 1000\n"
     ]
    }
   ],
   "source": [
    "# ●Using only the techniques you have learned so far, write a program that calculates the square and cube of the numbers from 0 to 10 and \n",
    "# uses tabs to print the following table of values:\n",
    "print(\"number\\tsquare\\tcube\")\n",
    "for i in range(1,11):\n",
    "    print(i,\" \\t\",i**2,\" \\t\",i**3)\n",
    "\n",
    "    "
   ]
  },
  {
   "cell_type": "code",
   "execution_count": 51,
   "id": "46ad1d68-a71b-4b93-a51e-9cb62703d092",
   "metadata": {},
   "outputs": [
    {
     "name": "stdout",
     "output_type": "stream",
     "text": [
      "a= 5\n",
      "b= 3\n",
      "a= 3\n",
      "b= 5\n"
     ]
    }
   ],
   "source": [
    "# Write a program that assigns values to two variables and then swap their values.\n",
    "a=5\n",
    "b=3\n",
    "print()\n",
    "print(\"a=\",a)\n",
    "print(\"b=\",b)\n",
    "a,b=b,a\n",
    "print(\"a=\",a)\n",
    "print(\"b=\",b)"
   ]
  },
  {
   "cell_type": "code",
   "execution_count": 4,
   "id": "857d56ad-96c4-4038-a492-3d6f1a928cea",
   "metadata": {},
   "outputs": [
    {
     "name": "stdin",
     "output_type": "stream",
     "text": [
      "Enter five digit number 12345\n"
     ]
    },
    {
     "name": "stdout",
     "output_type": "stream",
     "text": [
      "5 4 3 2 1\n"
     ]
    }
   ],
   "source": [
    "# ●Write a program that inputs one five-digit number, generates its reverse and displays the reverse on screen.(Hint:\n",
    "# Make use of the arithmetic operators modulus (%) and floor (// \n",
    "num=int(input(\"Enter five digit number\"))\n",
    "x1 = num % 10\n",
    "x2 = (num % 100) // 10\n",
    "x3 = (num % 1000) // 100\n",
    "x4 = (num % 10000) // 1000\n",
    "x5 = num // 10000\n",
    "\n",
    "print(x1,x2,x3,x4,x5)\n"
   ]
  },
  {
   "cell_type": "code",
   "execution_count": 20,
   "id": "e5c4a179-b729-4371-9043-bd464a12c6fd",
   "metadata": {},
   "outputs": [
    {
     "name": "stdout",
     "output_type": "stream",
     "text": [
      "*********\n",
      "*       *\n",
      "*       *\n",
      "*       *\n",
      "*       *\n",
      "*       *\n",
      "*       *\n",
      "*       *\n",
      "*       *\n",
      "*********\n",
      "   ***\n",
      " *     *\n",
      "*       *\n",
      "*       *\n",
      "*       *\n",
      "*       *\n",
      "*       *\n",
      " *     *\n",
      "   ***\n",
      "\n",
      "  *\n",
      " ***\n",
      "*****\n",
      "  *\n",
      "  *\n",
      "  *\n",
      "  *\n",
      "  *\n",
      "  *\n",
      "\n",
      "         *\n",
      "      *    *\n",
      "    *        *\n",
      "  *            *\n",
      "*                *\n",
      "  *            *\n",
      "    *        *\n",
      "      *    *\n",
      "        *\n",
      "     \n"
     ]
    }
   ],
   "source": [
    "# ●Using whatever we have learned so far, write a program that prints a box, an oval, an arrow and a diamond as follows:\n",
    "print(\n",
    "    \"\"\"*********\n",
    "*       *\n",
    "*       *\n",
    "*       *\n",
    "*       *\n",
    "*       *\n",
    "*       *\n",
    "*       *\n",
    "*       *\n",
    "*********\"\"\"\n",
    ")\n",
    "print(\n",
    "    \"\"\"   ***\n",
    " *     *\n",
    "*       *\n",
    "*       *\n",
    "*       *\n",
    "*       *\n",
    "*       *\n",
    " *     *\n",
    "   ***\n",
    "\"\"\"\n",
    ")\n",
    "print(\"\"\"  *\n",
    " ***\n",
    "*****\n",
    "  *\n",
    "  *\n",
    "  *\n",
    "  *\n",
    "  *\n",
    "  *\n",
    "\"\"\")\n",
    "print(\n",
    "    \"\"\"         *\n",
    "      *    *\n",
    "    *        *\n",
    "  *            *\n",
    "*                *\n",
    "  *            *\n",
    "    *        *\n",
    "      *    *\n",
    "        *\n",
    "     \"\"\"\n",
    "     \n",
    ")\n"
   ]
  },
  {
   "cell_type": "code",
   "execution_count": null,
   "id": "79c04a0a-404c-4fa4-8dad-cadd36892a32",
   "metadata": {},
   "outputs": [],
   "source": [
    "# ●Write a program that reads three nonzero integers and determines and prints if they could be the sides of a right triangle.\n",
    "# (Hint : use Pythagoras theorem you learned in mathematics during FSC or matric ,\n",
    "# try different combinations of the same integers )\n"
   ]
  },
  {
   "cell_type": "code",
   "execution_count": 11,
   "id": "f6df9f51-03d2-42e2-9334-947ba6bd20e6",
   "metadata": {},
   "outputs": [
    {
     "name": "stdin",
     "output_type": "stream",
     "text": [
      "enter the length of side lengthone:  3\n",
      "enter the length of side lengthtwo:  4\n",
      "enter the length of side lengththree:  5\n"
     ]
    },
    {
     "name": "stdout",
     "output_type": "stream",
     "text": [
      "The lengths form a right-angled triangle, and the hypotenuse is: 5\n"
     ]
    }
   ],
   "source": [
    "lengthOne = int(input(\"enter the length of side lengthone: \"))\n",
    "lengthTwo = int(input(\"enter the length of side lengthtwo: \"))\n",
    "lengthThree = int(input(\"enter the length of side lengththree: \"))\n",
    "# a = lengthOne**2\n",
    "# b = lengthTwo**2\n",
    "# c = lengthThree**2\n",
    "# if c==a+b:\n",
    "if (lengthThree)**2 == (lengthOne)**2 + (lengthTwo)**2:\n",
    "    print(f\"The lengths form a right-angled triangle, and the hypotenuse is: {lengthThree}\")\n",
    "else:\n",
    "    print(\"The given lengths do not form a right-angled triangle.\")\n",
    "\n"
   ]
  },
  {
   "cell_type": "code",
   "execution_count": 66,
   "id": "995af6c1-8ddf-4a5d-af9a-45099588a8d0",
   "metadata": {},
   "outputs": [
    {
     "name": "stdin",
     "output_type": "stream",
     "text": [
      "Enter score:  0.3\n"
     ]
    },
    {
     "name": "stdout",
     "output_type": "stream",
     "text": [
      "Grade F\n"
     ]
    }
   ],
   "source": [
    "# Write a program to prompt for a score between 0.0 and 1.0. If the score is out of range, print an error message.\n",
    "# If the score is between 0.0 and 1.0,print a grade using the following table\n",
    "num = float(input(\"Enter score: \"))\n",
    "if num >= 1.0 or num < 0.0:\n",
    "    print(\"Error: Score out of range\")\n",
    "elif num >= 0.9 :\n",
    "    print(\"Grade A\")\n",
    "elif num >= 0.8 :\n",
    "    print(\"Grade B\")\n",
    "elif num >= 0.7 :\n",
    "    print(\"Grade C\")\n",
    "elif num >= 0.6 :\n",
    "    print(\"Grade D\")\n",
    "else:\n",
    "    print(\"Grade F\")\n",
    "\n"
   ]
  },
  {
   "cell_type": "code",
   "execution_count": 9,
   "id": "cb187a59-bda9-4420-a542-a7b6cbc1f910",
   "metadata": {},
   "outputs": [
    {
     "name": "stdin",
     "output_type": "stream",
     "text": [
      "enter hours:  6\n",
      "am or pm am\n",
      "how many hours ahead ?  8\n"
     ]
    },
    {
     "name": "stdout",
     "output_type": "stream",
     "text": [
      "2 pm\n"
     ]
    }
   ],
   "source": [
    "# Write a program that asks the user for an hour between 1 and 12, asks them to enter am or pm, and asks them how many hours into the future\n",
    "# they want to go. Print out what the hour will be that many hours into the future, printing am or pm as appropriate\n",
    "\n",
    "hours = int(input(\"enter hours: \"))\n",
    "am_pm = input(\"am or pm: \")\n",
    "ahead = int(input(\"how many hours ahead ? \"))\n",
    "clock = hours + ahead\n",
    "if clock ==12:\n",
    "    print(clock, am_pm)\n",
    "elif clock > 12:\n",
    "    print(clock - 12 , \"pm\" if am_pm == \"am\" else \"am\")\n",
    "elif clock < 12:\n",
    "   print( clock, \"pm\" if am_pm == \"am\" else \"am\")"
   ]
  },
  {
   "cell_type": "code",
   "execution_count": 2,
   "id": "2ffbe6ba-1b61-49cd-b161-b420e006e358",
   "metadata": {},
   "outputs": [
    {
     "name": "stdin",
     "output_type": "stream",
     "text": [
      "Enter five digit number: 18181\n"
     ]
    },
    {
     "name": "stdout",
     "output_type": "stream",
     "text": [
      "the entered number is not a palindrome\n"
     ]
    }
   ],
   "source": [
    "# A palindrome is a number or a text phrase that reads the same backwards as forwards. For example, each of the \n",
    "# following five-digit integers are palindromes: 12321, 55555, 45554 and 11611. Write a program that reads in a\n",
    "# five-digit integer and determines whether or not it is a palindrome. \n",
    "\n",
    "Num = int(input(\"Enter five digit number:\"))\n",
    "a1 = Num % 10\n",
    "a2 = (Num % 100) // 10\n",
    "a3 = (Num % 1000) // 100\n",
    "a4 = (Num % 10000) // 10000\n",
    "a5 = Num // 10000\n",
    "\n",
    "if a1 == a5 and a2 == a4:\n",
    "    print(\"the entered number is palindrome\")\n",
    "else:\n",
    "    print(\"the entered number is not a palindrome\")\n",
    "    "
   ]
  },
  {
   "cell_type": "code",
   "execution_count": 10,
   "id": "59425d9d-7eda-4e54-916a-bf30527ded08",
   "metadata": {},
   "outputs": [
    {
     "name": "stdin",
     "output_type": "stream",
     "text": [
      "Enter five digit number: 12345\n"
     ]
    },
    {
     "name": "stdout",
     "output_type": "stream",
     "text": [
      "the entered number is palindrome\n"
     ]
    }
   ],
   "source": [
    "Num = int(input(\"Enter five digit number:\"))\n",
    "lst=[]\n",
    "lst.append(Num)\n",
    "copylst=lst.copy()\n",
    "copylst.reverse()\n",
    "if lst == copylst:\n",
    "  print(\"the entered number is palindrome\")\n",
    "else:\n",
    "   print(\"the entered number is not a palindrome\")"
   ]
  },
  {
   "cell_type": "code",
   "execution_count": null,
   "id": "da082d37-eaf4-4e11-84a4-3c015b6b4917",
   "metadata": {},
   "outputs": [],
   "source": []
  }
 ],
 "metadata": {
  "kernelspec": {
   "display_name": "Python 3 (ipykernel)",
   "language": "python",
   "name": "python3"
  },
  "language_info": {
   "codemirror_mode": {
    "name": "ipython",
    "version": 3
   },
   "file_extension": ".py",
   "mimetype": "text/x-python",
   "name": "python",
   "nbconvert_exporter": "python",
   "pygments_lexer": "ipython3",
   "version": "3.11.7"
  }
 },
 "nbformat": 4,
 "nbformat_minor": 5
}
