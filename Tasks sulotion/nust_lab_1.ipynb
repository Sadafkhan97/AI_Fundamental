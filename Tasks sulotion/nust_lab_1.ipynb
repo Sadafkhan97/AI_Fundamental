{
 "cells": [
  {
   "cell_type": "code",
   "execution_count": 1,
   "id": "0aaddf88-923b-4212-a41b-9aedac6088a6",
   "metadata": {},
   "outputs": [
    {
     "name": "stdout",
     "output_type": "stream",
     "text": [
      "hello world\n"
     ]
    }
   ],
   "source": [
    "# 1.Write a program in jupyter notebook, that prints on screen the message Hello, World.\n",
    "print(\"Hello, World\")"
   ]
  },
  {
   "cell_type": "code",
   "execution_count": 4,
   "id": "3d96481f-868f-4b00-9965-e63b003fd523",
   "metadata": {},
   "outputs": [
    {
     "ename": "SyntaxError",
     "evalue": "unterminated string literal (detected at line 2) (3227958530.py, line 2)",
     "output_type": "error",
     "traceback": [
      "\u001b[1;36m  Cell \u001b[1;32mIn[4], line 2\u001b[1;36m\u001b[0m\n\u001b[1;33m    print(\"Hello, World)\u001b[0m\n\u001b[1;37m          ^\u001b[0m\n\u001b[1;31mSyntaxError\u001b[0m\u001b[1;31m:\u001b[0m unterminated string literal (detected at line 2)\n"
     ]
    }
   ],
   "source": [
    "# 2.Using the program in (1), what happens if we remove the closing quotation around the text Hello, World?\n",
    "print(\"Hello, World)"
   ]
  },
  {
   "cell_type": "code",
   "execution_count": 5,
   "id": "6ec2b8eb-b34e-4988-99d9-3e09dd57f95a",
   "metadata": {},
   "outputs": [
    {
     "ename": "NameError",
     "evalue": "name 'Hello' is not defined",
     "output_type": "error",
     "traceback": [
      "\u001b[1;31m---------------------------------------------------------------------------\u001b[0m",
      "\u001b[1;31mNameError\u001b[0m                                 Traceback (most recent call last)",
      "Cell \u001b[1;32mIn[5], line 3\u001b[0m\n\u001b[0;32m      1\u001b[0m \u001b[38;5;66;03m# 3.Using the program in (1), what happens if we remove both the quotations around the text Hello, World? \u001b[39;00m\n\u001b[0;32m      2\u001b[0m \u001b[38;5;66;03m# How is it different from the behavior in (2)\u001b[39;00m\n\u001b[1;32m----> 3\u001b[0m \u001b[38;5;28mprint\u001b[39m(Hello, World)\n",
      "\u001b[1;31mNameError\u001b[0m: name 'Hello' is not defined"
     ]
    }
   ],
   "source": [
    "# 3.Using the program in (1), what happens if we remove both the quotations around the text Hello, World? \n",
    "# How is it different from the behavior in (2)\n",
    "print(Hello, World)"
   ]
  },
  {
   "cell_type": "code",
   "execution_count": 8,
   "id": "155e4945-c389-4a59-b4a6-f413effa13bd",
   "metadata": {},
   "outputs": [
    {
     "name": "stdout",
     "output_type": "stream",
     "text": [
      "*\n",
      "**\n",
      "***\n",
      "****\n",
      "*****\n"
     ]
    }
   ],
   "source": [
    "# 4.Write a program using the print() command  that produces the following output:\n",
    "\n",
    "#             *\n",
    "#           **\n",
    "#   ***\n",
    "#           ****\n",
    "          # *****\n",
    "\n",
    "print(\"*\")\n",
    "print(\"**\")\n",
    "print(\"***\")\n",
    "print(\"****\")\n",
    "print(\"*****\")\n"
   ]
  },
  {
   "cell_type": "code",
   "execution_count": null,
   "id": "d5dcef4a-f876-42a8-8af7-c341ff42ea2e",
   "metadata": {},
   "outputs": [],
   "source": []
  }
 ],
 "metadata": {
  "kernelspec": {
   "display_name": "Python 3 (ipykernel)",
   "language": "python",
   "name": "python3"
  },
  "language_info": {
   "codemirror_mode": {
    "name": "ipython",
    "version": 3
   },
   "file_extension": ".py",
   "mimetype": "text/x-python",
   "name": "python",
   "nbconvert_exporter": "python",
   "pygments_lexer": "ipython3",
   "version": "3.11.7"
  }
 },
 "nbformat": 4,
 "nbformat_minor": 5
}
