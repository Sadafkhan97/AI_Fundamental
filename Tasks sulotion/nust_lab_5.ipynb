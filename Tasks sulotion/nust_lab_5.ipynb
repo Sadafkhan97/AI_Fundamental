{
 "cells": [
  {
   "cell_type": "code",
   "execution_count": 1,
   "id": "049bbe0a-1c60-4c35-b773-e9b1fb017e00",
   "metadata": {},
   "outputs": [
    {
     "name": "stdin",
     "output_type": "stream",
     "text": [
      "Enter a line of text:  sadaf\n"
     ]
    },
    {
     "name": "stdout",
     "output_type": "stream",
     "text": [
      "Uppercase: SADAF\n",
      "Lowercase: sadaf\n"
     ]
    }
   ],
   "source": [
    "# Write a program that inputs a line of text. Output the text in uppercase letters and in lowercase letters using built-in functions.\n",
    "\n",
    "text = input(\"Enter a line of text: \")\n",
    "\n",
    "print(\"Uppercase:\", text.upper())\n",
    "print(\"Lowercase:\", text.lower())"
   ]
  },
  {
   "cell_type": "code",
   "execution_count": 3,
   "id": "46ad3646-bcf9-4c1b-8990-f2abf48588e2",
   "metadata": {},
   "outputs": [
    {
     "name": "stdin",
     "output_type": "stream",
     "text": [
      "Enter a string:  sadaf khan\n"
     ]
    },
    {
     "name": "stdout",
     "output_type": "stream",
     "text": [
      "Estimated number of words: 2\n"
     ]
    }
   ],
   "source": [
    "# A simple way to estimate the number of words in a string is to count the number of spaces in the string.\n",
    "# Write a program that asks the user for a string and returns an estimate of how many words are in the string.\n",
    "\n",
    "text = input(\"Enter a string: \")\n",
    "\n",
    "word_count = text.count(\" \") + 1\n",
    "\n",
    "print(\"Estimated number of words:\", word_count)"
   ]
  },
  {
   "cell_type": "code",
   "execution_count": 5,
   "id": "d1beda9f-38c8-4de8-a3d8-2895cf9dc335",
   "metadata": {},
   "outputs": [
    {
     "name": "stdin",
     "output_type": "stream",
     "text": [
      "Enter a string:  sadaf ,khan\n"
     ]
    },
    {
     "name": "stdout",
     "output_type": "stream",
     "text": [
      "Processed string: sadaf khan\n"
     ]
    }
   ],
   "source": [
    "# Write a program that asks the user to enter a string s and then converts s to lowercase, \n",
    "# removes all the periods and commas from s, and prints the resulting string.(Hint: use the split method)\n",
    "\n",
    "s = input(\"Enter a string: \")\n",
    "result = s.lower().replace(\".\", \"\").replace(\",\", \"\")\n",
    "\n",
    "print(\"Processed string:\", result)\n",
    "\n",
    "\n"
   ]
  },
  {
   "cell_type": "code",
   "execution_count": 6,
   "id": "21061bc2-9200-442b-9459-668fc4610e5c",
   "metadata": {},
   "outputs": [
    {
     "name": "stdout",
     "output_type": "stream",
     "text": [
      "Index of 9362: 3\n",
      "Final list: [1830, 2314, 2956, 3900, 4353, 4499, 5566, 9362]\n"
     ]
    }
   ],
   "source": [
    "# 4.\tA variable ids refers to the list [4353, 2314, 2956, 3382, 9362, 3900]. Using list methods, do the following:\n",
    "# a.\tRemove 3382 from the list.\n",
    "# b.\tGet the index of 9362.\n",
    "# c.\tInsert 4499 in the list after 9362.\n",
    "# d.\tExtend the list by adding [5566, 1830] to it.\n",
    "# e.\tReverse the list.\n",
    "# f.\tSort the list.\n",
    "\n",
    "# Task 4: Manipulating a List\n",
    "ids = [4353, 2314, 2956, 3382, 9362, 3900]\n",
    "\n",
    "# a. Remove 3382 from the list\n",
    "ids.remove(3382)\n",
    "\n",
    "# b. Get the index of 9362\n",
    "index_9362 = ids.index(9362)\n",
    "print(f\"Index of 9362: {index_9362}\")\n",
    "\n",
    "# c. Insert 4499 in the list after 9362\n",
    "ids.insert(index_9362 + 1, 4499)\n",
    "\n",
    "# d. Extend the list by adding [5566, 1830] to it\n",
    "ids.extend([5566, 1830])\n",
    "\n",
    "# e. Reverse the list\n",
    "ids.reverse()\n",
    "\n",
    "# f. Sort the list\n",
    "ids.sort()\n",
    "\n",
    "print(\"Final list:\", ids)\n",
    "\n"
   ]
  },
  {
   "cell_type": "code",
   "execution_count": 8,
   "id": "b12184a9-7159-4556-be4d-17a9cafd4531",
   "metadata": {},
   "outputs": [
    {
     "name": "stdout",
     "output_type": "stream",
     "text": [
      "Roll\tProbability\n",
      "2\t2.97%\n",
      "3\t5.76%\n",
      "4\t8.51%\n",
      "5\t11.23%\n",
      "6\t13.67%\n",
      "7\t16.46%\n",
      "8\t13.86%\n",
      "9\t11.18%\n",
      "10\t8.10%\n",
      "11\t5.53%\n",
      "12\t2.73%\n"
     ]
    }
   ],
   "source": [
    "# 5.\tWhen playing games where you have to roll two dice, it is nice to know the odds of each roll. \n",
    "# For instance, the odds of rolling a 12 are about 3%, and the odds of rolling a 7 are about 17%. You can compute these mathematically,\n",
    "# but if you don’t know the math, you can write a program to do it. To do this, your program should simulate rolling two dice\n",
    "# about 10,000 times and compute and print out the percentage of rolls that come out to be 2, 3, 4, . . . , 12. Print the results in a table format.\n",
    "\n",
    "\n",
    "import random\n",
    "\n",
    "\n",
    "rolls = [0] * 13 \n",
    "\n",
    "for _ in range(10000):\n",
    "    roll = random.randint(1, 6) + random.randint(1, 6)\n",
    "    rolls[roll] += 1\n",
    "\n",
    "print(\"Roll\\tProbability\")\n",
    "for i in range(2, 13):\n",
    "    print(f\"{i}\\t{rolls[i] / 100:.2f}%\")\n",
    "\n",
    "\n"
   ]
  },
  {
   "cell_type": "code",
   "execution_count": 9,
   "id": "39717a42-74d0-4555-95e3-ec2ac9b6e425",
   "metadata": {},
   "outputs": [
    {
     "name": "stdout",
     "output_type": "stream",
     "text": [
      "Mean: 49.323232323232325\n",
      "Median: 48\n",
      "Mode: [39, 65]\n"
     ]
    }
   ],
   "source": [
    "# 6.\tWrite a function each for mean, median and mode that accepts a list as an argument. The mean, median, and mode functions return an integer.\n",
    "\n",
    "# a.\tUsing these functions, write a program that generates a 99-element list of random numbers between 1 and 100 (inclusive) and computes its mean,\n",
    "# median, mode.\n",
    "\n",
    "import random\n",
    "from collections import Counter\n",
    "\n",
    "# Task 6: Mean, Median, and Mode Functions\n",
    "def mean(numbers):\n",
    "    return sum(numbers) / len(numbers)\n",
    "\n",
    "def median(numbers):\n",
    "    sorted_numbers = sorted(numbers)\n",
    "    mid = len(sorted_numbers) // 2\n",
    "    if len(sorted_numbers) % 2 == 0:\n",
    "        return (sorted_numbers[mid - 1] + sorted_numbers[mid]) / 2\n",
    "    else:\n",
    "        return sorted_numbers[mid]\n",
    "\n",
    "def mode(numbers):\n",
    "    counter = Counter(numbers)\n",
    "    max_count = max(counter.values())\n",
    "    mode = [k for k, v in counter.items() if v == max_count]\n",
    "    return mode[0] if len(mode) == 1 else mode\n",
    "\n",
    "# Generate a list of 99 random numbers between 1 and 100\n",
    "random_numbers = [random.randint(1, 100) for _ in range(99)]\n",
    "\n",
    "# Compute and print the mean, median, and mode\n",
    "print(\"Mean:\", mean(random_numbers))\n",
    "print(\"Median:\", median(random_numbers))\n",
    "print(\"Mode:\", mode(random_numbers))\n",
    "\n"
   ]
  },
  {
   "cell_type": "code",
   "execution_count": null,
   "id": "7c2e8d84-4dfe-4ce3-a9da-d611a5b1eb70",
   "metadata": {},
   "outputs": [],
   "source": [
    "\n",
    "# 7.\tWrite a program that rotates the elements of a list so that the element at the first index moves to the second index, \n",
    "# the element in the second index moves to the third index, etc., and the element in the last index moves to the first index.\n",
    "\n",
    "# Task 7: Rotate Elements in a List\n",
    "def rotate_list(lst):\n",
    "    return lst[1:] + [lst[0]]\n",
    "\n",
    "# Example usage\n",
    "numbers = [1, 2, 3, 4, 5]\n",
    "rotated_numbers = rotate_list(numbers)\n",
    "print(\"Rotated list:\", rotated_numbers)\n"
   ]
  }
 ],
 "metadata": {
  "kernelspec": {
   "display_name": "Python 3 (ipykernel)",
   "language": "python",
   "name": "python3"
  },
  "language_info": {
   "codemirror_mode": {
    "name": "ipython",
    "version": 3
   },
   "file_extension": ".py",
   "mimetype": "text/x-python",
   "name": "python",
   "nbconvert_exporter": "python",
   "pygments_lexer": "ipython3",
   "version": "3.11.7"
  }
 },
 "nbformat": 4,
 "nbformat_minor": 5
}
