{
 "cells": [
  {
   "cell_type": "code",
   "execution_count": 2,
   "id": "15b1d19f-098d-4196-ab9d-1937de688f95",
   "metadata": {},
   "outputs": [
    {
     "name": "stdout",
     "output_type": "stream",
     "text": [
      "Area: 15\n",
      "Perimeter: 16\n"
     ]
    }
   ],
   "source": [
    "# Q1 Write a Python class called Rectangle that has attributes length and width.Implement methods to calculate the area and perimeter of the rectangle.\n",
    "class Rectangle:\n",
    "    def __init__(self, length, width):\n",
    "        self.length = length\n",
    "        self.width = width\n",
    "\n",
    "    def area(self):\n",
    "        return self.length * self.width\n",
    "\n",
    "    def perimeter(self):\n",
    "        return 2 * (self.length + self.width)\n",
    "\n",
    "rect = Rectangle(5, 3)\n",
    "print(\"Area:\", rect.area())\n",
    "print(\"Perimeter:\", rect.perimeter()) \n"
   ]
  },
  {
   "cell_type": "code",
   "execution_count": 3,
   "id": "b114a8fd-93b8-4ff2-afe3-90f09eea47de",
   "metadata": {},
   "outputs": [
    {
     "name": "stdout",
     "output_type": "stream",
     "text": [
      "Bark\n",
      "Meow\n",
      "Chirp\n",
      "Dog fetches the ball.\n",
      "Cat scratches the post.\n",
      "Bird flies in the sky.\n"
     ]
    }
   ],
   "source": [
    "# Q2 Create a class hierarchy in Python consisting of a base class called Animal, and derived classes Dog, Cat, and Bird. Each derived class should have its unique method.\n",
    "# Instantiate objects of each class and demonstrate polymorphism by calling a common method on each object.\n",
    "class Animal:\n",
    "    def speak(self):\n",
    "        return \"Animal sound\"\n",
    "\n",
    "class Dog(Animal):\n",
    "    def speak(self):\n",
    "        return \"Bark\"\n",
    "\n",
    "    def fetch(self):\n",
    "        return \"Dog fetches the ball.\"\n",
    "\n",
    "class Cat(Animal):\n",
    "    def speak(self):\n",
    "        return \"Meow\"\n",
    "\n",
    "    def scratch(self):\n",
    "        return \"Cat scratches the post.\"\n",
    "\n",
    "class Bird(Animal):\n",
    "    def speak(self):\n",
    "        return \"Chirp\"\n",
    "\n",
    "    def fly(self):\n",
    "        return \"Bird flies in the sky.\"\n",
    "\n",
    "animals = [Dog(), Cat(), Bird()]\n",
    "\n",
    "for animal in animals:\n",
    "    print(animal.speak())\n",
    "\n",
    "# Additional method demonstrations:\n",
    "dog = Dog()\n",
    "print(dog.fetch())  \n",
    "\n",
    "cat = Cat()\n",
    "print(cat.scratch())  \n",
    "\n",
    "bird = Bird()\n",
    "print(bird.fly())  "
   ]
  },
  {
   "cell_type": "code",
   "execution_count": 5,
   "id": "af3eb561-0bb7-4854-a1cd-464fcfb7772e",
   "metadata": {},
   "outputs": [
    {
     "name": "stdout",
     "output_type": "stream",
     "text": [
      "Rectangle area: 32\n",
      "Circle area: 28.274333882308138\n"
     ]
    }
   ],
   "source": [
    "# Q3 Write a Python class called Shape with a method area() that returns the area of the shape. Create two subclasses, Rectangle\n",
    "# and Circle, each overriding the area() method to calculate the area of the specific shape. Instantiate objects of each class and display their areas.\n",
    "\n",
    "import math\n",
    "\n",
    "class Shape:\n",
    "    def area(self):\n",
    "        raise \n",
    "\n",
    "class Rectangle(Shape):\n",
    "    def __init__(self, length, width):\n",
    "        self.length = length\n",
    "        self.width = width\n",
    "\n",
    "    def area(self):\n",
    "        return self.length * self.width\n",
    "\n",
    "class Circle(Shape):\n",
    "    def __init__(self, radius):\n",
    "        self.radius = radius\n",
    "\n",
    "    def area(self):\n",
    "        return math.pi * self.radius ** 2\n",
    "\n",
    "rect = Rectangle(4, 8)\n",
    "circle = Circle(3)\n",
    "\n",
    "print(\"Rectangle area:\", rect.area()) \n",
    "print(\"Circle area:\", circle.area())   \n"
   ]
  },
  {
   "cell_type": "code",
   "execution_count": null,
   "id": "2723be46-47ad-4669-b3bb-562f0bca92ee",
   "metadata": {},
   "outputs": [],
   "source": []
  }
 ],
 "metadata": {
  "kernelspec": {
   "display_name": "Python 3 (ipykernel)",
   "language": "python",
   "name": "python3"
  },
  "language_info": {
   "codemirror_mode": {
    "name": "ipython",
    "version": 3
   },
   "file_extension": ".py",
   "mimetype": "text/x-python",
   "name": "python",
   "nbconvert_exporter": "python",
   "pygments_lexer": "ipython3",
   "version": "3.11.7"
  }
 },
 "nbformat": 4,
 "nbformat_minor": 5
}
